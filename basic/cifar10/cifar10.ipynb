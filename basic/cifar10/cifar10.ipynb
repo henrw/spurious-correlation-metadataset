{
 "cells": [
  {
   "cell_type": "code",
   "execution_count": 5,
   "metadata": {},
   "outputs": [],
   "source": [
    "import os\n",
    "if not os.path.exists(\"cifar-10-batches-py\"):\n",
    "    os.system(\"\"\"\n",
    "                wget http://www.cs.toronto.edu/~kriz/cifar-10-python.tar.gz\n",
    "                tar -xvf cifar-10-python.tar.gz\"\"\"\n",
    "    )\n",
    "    # os.system(\"wget http://www.cs.toronto.edu/~kriz/cifar-10-python.tar.gz\")\n"
   ]
  },
  {
   "cell_type": "code",
   "execution_count": 6,
   "metadata": {},
   "outputs": [],
   "source": [
    "from matplotlib import pyplot as plt\n",
    "import pickle\n",
    "\n",
    "def unpickle(file):\n",
    "    with open(file, 'rb') as fo:\n",
    "        dict = pickle.load(fo, encoding='bytes')\n",
    "    return dict"
   ]
  },
  {
   "cell_type": "code",
   "execution_count": 7,
   "metadata": {},
   "outputs": [
    {
     "name": "stdout",
     "output_type": "stream",
     "text": [
      "data_batch_1\n",
      "data_batch_2\n",
      "data_batch_3\n",
      "data_batch_4\n",
      "data_batch_5\n"
     ]
    }
   ],
   "source": [
    "# extract all automobile / truck images\n",
    "# img = train[b'data'][100].reshape(3,32,32).transpose((1,2,0))\n",
    "import numpy as np\n",
    "car_images = np.empty((0,3072), dtype=np.uint8)\n",
    "truck_images = np.empty((0,3072), dtype=np.uint8)\n",
    "\n",
    "batche_names = [\"data_batch_1\", \"data_batch_2\", \"data_batch_3\", \"data_batch_4\", \"data_batch_5\"]\n",
    "for name in batche_names:\n",
    "    print(name)\n",
    "    batch = unpickle(\"cifar-10-batches-py/\"+name)\n",
    "    for label, image in zip(batch[b\"labels\"], batch[b\"data\"][:]):\n",
    "        if label == 1:\n",
    "            car_images = np.vstack([car_images, image.reshape((1,-1))])\n",
    "        elif label == 9:\n",
    "            truck_images = np.vstack([truck_images, image.reshape((1,-1))])\n",
    "car_n = car_images.shape[0]\n",
    "truck_n = truck_images.shape[0]\n",
    "car_images = car_images.reshape(car_n,3,32,32).transpose((0,2,3,1))\n",
    "truck_images = truck_images.reshape(truck_n,3,32,32).transpose((0,2,3,1))\n",
    "np.save(\"train_car_images.npy\", car_images)\n",
    "np.save(\"train_truck_images.npy\", truck_images)"
   ]
  },
  {
   "cell_type": "code",
   "execution_count": 9,
   "metadata": {},
   "outputs": [
    {
     "name": "stdout",
     "output_type": "stream",
     "text": [
      "test_batch\n"
     ]
    }
   ],
   "source": [
    "import numpy as np\n",
    "car_images = np.empty((0,3072), dtype=np.uint8)\n",
    "truck_images = np.empty((0,3072), dtype=np.uint8)\n",
    "\n",
    "batche_names = [\"test_batch\"]\n",
    "for name in batche_names:\n",
    "    print(name)\n",
    "    batch = unpickle(\"cifar-10-batches-py/\"+name)\n",
    "    for label, image in zip(batch[b\"labels\"], batch[b\"data\"][:]):\n",
    "        if label == 1:\n",
    "            car_images = np.vstack([car_images, image.reshape((1,-1))])\n",
    "        elif label == 9:\n",
    "            truck_images = np.vstack([truck_images, image.reshape((1,-1))])\n",
    "car_n = car_images.shape[0]\n",
    "truck_n = truck_images.shape[0]\n",
    "car_images = car_images.reshape(car_n,3,32,32).transpose((0,2,3,1))\n",
    "truck_images = truck_images.reshape(truck_n,3,32,32).transpose((0,2,3,1))\n",
    "np.save(\"test_car_images.npy\", car_images)\n",
    "np.save(\"test_truck_images.npy\", truck_images)"
   ]
  },
  {
   "cell_type": "code",
   "execution_count": 11,
   "metadata": {},
   "outputs": [
    {
     "name": "stdout",
     "output_type": "stream",
     "text": [
      "(1000, 32, 32, 3)\n",
      "(1000, 32, 32, 3)\n"
     ]
    }
   ],
   "source": [
    "print(car_images.shape)\n",
    "print(truck_images.shape)"
   ]
  },
  {
   "cell_type": "code",
   "execution_count": 12,
   "metadata": {},
   "outputs": [
    {
     "data": {
      "text/plain": [
       "<matplotlib.image.AxesImage at 0x7fef10a2a7c0>"
      ]
     },
     "execution_count": 12,
     "metadata": {},
     "output_type": "execute_result"
    },
    {
     "data": {
      "image/png": "[encoded data removed]",
      "text/plain": [
       "<Figure size 640x480 with 1 Axes>"
      ]
     },
     "metadata": {},
     "output_type": "display_data"
    }
   ],
   "source": [
    "plt.imshow(car_images[100])"
   ]
  },
  {
   "cell_type": "code",
   "execution_count": null,
   "metadata": {},
   "outputs": [],
   "source": []
  }
 ],
 "metadata": {
  "kernelspec": {
   "display_name": "Python 3.9.15 ('ml')",
   "language": "python",
   "name": "python3"
  },
  "language_info": {
   "codemirror_mode": {
    "name": "ipython",
    "version": 3
   },
   "file_extension": ".py",
   "mimetype": "text/x-python",
   "name": "python",
   "nbconvert_exporter": "python",
   "pygments_lexer": "ipython3",
   "version": "3.9.15 (main, Nov 24 2022, 08:29:02) \n[Clang 14.0.6 ]"
  },
  "orig_nbformat": 4,
  "vscode": {
   "interpreter": {
    "hash": "130c53e02beb7dafddf545d0043c75aec496f868b4a5a2fbacedeff9e10682bb"
   }
  }
 },
 "nbformat": 4,
 "nbformat_minor": 2
}
